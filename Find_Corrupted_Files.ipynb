{
 "cells": [
  {
   "cell_type": "code",
   "execution_count": 7,
   "id": "454e8c32-4b1a-47f0-be9e-78f48d69d71b",
   "metadata": {},
   "outputs": [
    {
     "name": "stdout",
     "output_type": "stream",
     "text": [
      "Number of files in /home/gridsan/abradshaw/MITBuzz/Positive_1sec_20240607: 10027\n",
      "Number of deleted silent files in /home/gridsan/abradshaw/MITBuzz/Positive_1sec_20240607: 0\n",
      "Number of files in /home/gridsan/abradshaw/MITBuzz/Negative_1sec_20240607: 11930\n",
      "Number of deleted silent files in /home/gridsan/abradshaw/MITBuzz/Negative_1sec_20240607: 211\n",
      "Total number of files in all directories: 21957\n",
      "Total number of deleted silent files in all directories: 211\n",
      "Audio file verification completed. Check the error log for details.\n"
     ]
    }
   ],
   "source": [
    "import os\n",
    "import soundfile as sf\n",
    "import numpy as np\n",
    "\n",
    "def verify_audio_files(directory, error_log, silent_log):\n",
    "    \"\"\"\n",
    "    Verify all audio files in the given directory.\n",
    "    Logs any problematic files to an error log.\n",
    "    Returns the number of files processed.\n",
    "    \"\"\"\n",
    "    problematic_files = []\n",
    "    silent_files = []\n",
    "    file_count = 0\n",
    "    deleted_files_count = 0\n",
    "\n",
    "    for filename in os.listdir(directory):\n",
    "        if filename.endswith(\".wav\"):\n",
    "            file_count += 1\n",
    "            file_path = os.path.join(directory, filename)\n",
    "            try:\n",
    "                # Attempt to read the audio file\n",
    "                data, samplerate = sf.read(file_path)\n",
    "                if np.all(np.abs(data) < 1e-4):  # Adjust the threshold if necessary\n",
    "                    silent_files.append(file_path)\n",
    "                    os.remove(file_path)  # Delete the silent file\n",
    "                    deleted_files_count += 1\n",
    "            except Exception as e:\n",
    "                error_message = f\"Error reading {file_path}: {e}\"\n",
    "                print(error_message)\n",
    "                problematic_files.append(error_message)\n",
    "\n",
    "    # Log problematic files\n",
    "    with open(error_log, 'w') as f:\n",
    "        for error in problematic_files:\n",
    "            f.write(f\"{error}\\n\")\n",
    "\n",
    "    # Log silent files\n",
    "    with open(silent_log, 'w') as f:\n",
    "        for silent_file in silent_files:\n",
    "            f.write(f\"{silent_file}\\n\")\n",
    "\n",
    "    return file_count, deleted_files_count\n",
    "\n",
    "# Directories to check\n",
    "data_dirs = [\n",
    "    \"/home/gridsan/abradshaw/MITBuzz/Positive_1sec_20240607\",\n",
    "    \"/home/gridsan/abradshaw/MITBuzz/Negative_1sec_20240607\"\n",
    "]\n",
    "\n",
    "error_log = \"/home/gridsan/abradshaw/MITBuzz/error_log.txt\"\n",
    "silent_log = \"/home/gridsan/abradshaw/MITBuzz/silent_log.txt\"\n",
    "total_files = 0\n",
    "total_deleted_files = 0\n",
    "\n",
    "# Verify audio files in each directory\n",
    "for data_dir in data_dirs:\n",
    "    num_files, num_deleted_files = verify_audio_files(data_dir, error_log, silent_log)\n",
    "    total_files += num_files\n",
    "    total_deleted_files += num_deleted_files\n",
    "    print(f\"Number of files in {data_dir}: {num_files}\")\n",
    "    print(f\"Number of deleted silent files in {data_dir}: {num_deleted_files}\")\n",
    "\n",
    "\n",
    "print(f\"Total number of files in all directories: {total_files}\")\n",
    "print(f\"Total number of deleted silent files in all directories: {total_deleted_files}\")\n",
    "print(\"Audio file verification completed. Check the error log for details.\")\n"
   ]
  },
  {
   "cell_type": "code",
   "execution_count": null,
   "id": "227beac9-5a1a-4e5d-9625-d35e86d5ebcd",
   "metadata": {},
   "outputs": [],
   "source": []
  }
 ],
 "metadata": {
  "kernelspec": {
   "display_name": "Python (python39++)",
   "language": "python",
   "name": "python39"
  },
  "language_info": {
   "codemirror_mode": {
    "name": "ipython",
    "version": 3
   },
   "file_extension": ".py",
   "mimetype": "text/x-python",
   "name": "python",
   "nbconvert_exporter": "python",
   "pygments_lexer": "ipython3",
   "version": "3.9.15"
  }
 },
 "nbformat": 4,
 "nbformat_minor": 5
}
