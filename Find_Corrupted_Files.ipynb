{
 "cells": [
  {
   "cell_type": "code",
   "execution_count": 3,
   "id": "454e8c32-4b1a-47f0-be9e-78f48d69d71b",
   "metadata": {},
   "outputs": [
    {
     "name": "stdout",
     "output_type": "stream",
     "text": [
      "Number of files in /home/gridsan/abradshaw/MITBuzz/ANIMAL-SPOT/ANIMAL-SPOT-DATA/target: 10027\n",
      "Number of files in /home/gridsan/abradshaw/MITBuzz/ANIMAL-SPOT/ANIMAL-SPOT-DATA/noise: 11930\n",
      "Total number of files in all directories: 21957\n",
      "Audio file verification completed. Check the error log for details.\n"
     ]
    }
   ],
   "source": [
    "import os\n",
    "import soundfile as sf\n",
    "\n",
    "def verify_audio_files(directory, error_log):\n",
    "    \"\"\"\n",
    "    Verify all audio files in the given directory.\n",
    "    Logs any problematic files to an error log.\n",
    "    Returns the number of files processed.\n",
    "    \"\"\"\n",
    "    problematic_files = []\n",
    "    file_count = 0\n",
    "\n",
    "    for filename in os.listdir(directory):\n",
    "        if filename.endswith(\".wav\"):\n",
    "            file_count += 1\n",
    "            file_path = os.path.join(directory, filename)\n",
    "            try:\n",
    "                # Attempt to read the audio file\n",
    "                data, samplerate = sf.read(file_path)\n",
    "            except Exception as e:\n",
    "                error_message = f\"Error reading {file_path}: {e}\"\n",
    "                print(error_message)\n",
    "                problematic_files.append(error_message)\n",
    "\n",
    "    # Log problematic files\n",
    "    with open(error_log, 'w') as f:\n",
    "        for error in problematic_files:\n",
    "            f.write(f\"{error}\\n\")\n",
    "\n",
    "    return file_count\n",
    "\n",
    "# Directories to check\n",
    "data_dirs = [\n",
    "    \"/home/gridsan/abradshaw/MITBuzz/ANIMAL-SPOT/ANIMAL-SPOT-DATA/target\",\n",
    "    \"/home/gridsan/abradshaw/MITBuzz/ANIMAL-SPOT/ANIMAL-SPOT-DATA/noise\"\n",
    "]\n",
    "\n",
    "error_log = \"/home/gridsan/abradshaw/MITBuzz/error_log.txt\"\n",
    "total_files = 0\n",
    "\n",
    "# Verify audio files in each directory\n",
    "for data_dir in data_dirs:\n",
    "    num_files = verify_audio_files(data_dir, error_log)\n",
    "    total_files += num_files\n",
    "    print(f\"Number of files in {data_dir}: {num_files}\")\n",
    "\n",
    "print(f\"Total number of files in all directories: {total_files}\")\n",
    "print(\"Audio file verification completed. Check the error log for details.\")\n"
   ]
  },
  {
   "cell_type": "code",
   "execution_count": null,
   "id": "227beac9-5a1a-4e5d-9625-d35e86d5ebcd",
   "metadata": {},
   "outputs": [],
   "source": []
  }
 ],
 "metadata": {
  "kernelspec": {
   "display_name": "Python (python39++)",
   "language": "python",
   "name": "python39"
  },
  "language_info": {
   "codemirror_mode": {
    "name": "ipython",
    "version": 3
   },
   "file_extension": ".py",
   "mimetype": "text/x-python",
   "name": "python",
   "nbconvert_exporter": "python",
   "pygments_lexer": "ipython3",
   "version": "3.9.15"
  }
 },
 "nbformat": 4,
 "nbformat_minor": 5
}
